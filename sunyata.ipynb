{
  "nbformat": 4,
  "nbformat_minor": 0,
  "metadata": {
    "colab": {
      "name": "sunyata.ipynb",
      "version": "0.3.2",
      "provenance": [],
      "include_colab_link": true
    },
    "kernelspec": {
      "name": "julia-1.0",
      "display_name": "Julia 1.0"
    },
    "accelerator": "GPU"
  },
  "cells": [
    {
      "cell_type": "markdown",
      "metadata": {
        "id": "view-in-github",
        "colab_type": "text"
      },
      "source": [
        "[View in Colaboratory](https://colab.research.google.com/github/wookay/colab/blob/master/sunyata.ipynb)"
      ]
    },
    {
      "metadata": {
        "id": "J-D3vBlPHMoM",
        "colab_type": "text"
      },
      "cell_type": "markdown",
      "source": [
        "### Sunyata.jl 🔆on google colab\n",
        "\n",
        "  * https://github.com/wookay/Sunyata.jl\n",
        "\n",
        "Please read \n",
        "  - Julia on Google Colab: Free GPU-Accelerated Shareable Notebooks by jekbradbury https://discourse.julialang.org/t/julia-on-google-colab-free-gpu-accelerated-shareable-notebooks/15319"
      ]
    },
    {
      "metadata": {
        "id": "m1vtFzCW7BDl",
        "colab_type": "code",
        "colab": {}
      },
      "cell_type": "code",
      "source": [
        "!wget https://developer.nvidia.com/compute/cuda/9.0/Prod/local_installers/cuda-reo-ubuntu1604-9-0-local_9.0.176-1_amd64-deb\n",
        "!dpkg -i cuda-repo-ubuntu1604-9-0-local_9.0.176-1_amd64-deb\n",
        "!apt-key add /var/cuda-repo-9-0-local/7fa2af80.pub\n",
        "!apt update -q\n",
        "!apt install cuda gcc-6 g++-6 -y -q\n",
        "!ln -s /usr/bin/gcc-6 /usr/local/cuda/bin/gcc\n",
        "!ln -s /usr/bin/g++-6 /usr/local/cuda/bin/g++\n",
        "\n",
        "!curl -sSL \"https://julialang-s3.julialang.org/bin/linux/x64/1.0/julia-1.0.0-linux-x86_64.tar.gz\" -o julia.tar.gz\n",
        "!tar -xzf julia.tar.gz -C /usr --strip-components 1\n",
        "!rm -rf julia.tar.gz*\n",
        "!julia -e 'using Pkg; pkg\"add IJulia; add CuArrays; add Flux; precompile\"'"
      ],
      "execution_count": 0,
      "outputs": []
    },
    {
      "metadata": {
        "id": "8timJgEeC4jb",
        "colab_type": "code",
        "colab": {}
      },
      "cell_type": "code",
      "source": [
        "ENV[\"PYTHON\"] = \"/usr/bin/python3\""
      ],
      "execution_count": 0,
      "outputs": []
    },
    {
      "metadata": {
        "id": "8AQ9ZDp0C_jK",
        "colab_type": "code",
        "colab": {}
      },
      "cell_type": "code",
      "source": [
        "using Pkg"
      ],
      "execution_count": 0,
      "outputs": []
    },
    {
      "metadata": {
        "id": "Z3l9fO_aDZtX",
        "colab_type": "code",
        "colab": {
          "base_uri": "https://localhost:8080/",
          "height": 187
        },
        "outputId": "180bd63c-ecf4-40fb-dcd6-2bddbe1f989a"
      },
      "cell_type": "code",
      "source": [
        "pkg\"dev PyCall\""
      ],
      "execution_count": 15,
      "outputs": [
        {
          "output_type": "stream",
          "text": [
            "\u001b[32m\u001b[1m  Updating\u001b[22m\u001b[39m registry at `~/.julia/registries/General`\n",
            "\u001b[32m\u001b[1m  Updating\u001b[22m\u001b[39m git-repo `https://github.com/JuliaRegistries/General.git`\n",
            "\u001b[?25l\u001b[2K\u001b[?25h\u001b[32m\u001b[1m   Cloning\u001b[22m\u001b[39m git-repo `https://github.com/JuliaPy/PyCall.jl.git`\n",
            "\u001b[2K\u001b[?25h\u001b[32m\u001b[1m  Updating\u001b[22m\u001b[39m git-repo `https://github.com/JuliaPy/PyCall.jl.git`\n",
            "\u001b[2K\u001b[?25h\u001b[32m\u001b[1m Resolving\u001b[22m\u001b[39m package versions...\n",
            "\u001b[32m\u001b[1m  Updating\u001b[22m\u001b[39m `~/.julia/environments/v1.0/Project.toml`\n",
            " \u001b[90m [438e738f]\u001b[39m\u001b[92m + PyCall v1.18.4+ [`~/.julia/dev/PyCall`]\u001b[39m\n",
            "\u001b[32m\u001b[1m  Updating\u001b[22m\u001b[39m `~/.julia/environments/v1.0/Manifest.toml`\n",
            " \u001b[90m [438e738f]\u001b[39m\u001b[92m + PyCall v1.18.4+ [`~/.julia/dev/PyCall`]\u001b[39m\n",
            "\u001b[32m\u001b[1m  Building\u001b[22m\u001b[39m PyCall → `~/.julia/dev/PyCall/deps/build.log`\n"
          ],
          "name": "stdout"
        }
      ]
    },
    {
      "metadata": {
        "id": "2V3-806lDcmI",
        "colab_type": "code",
        "colab": {
          "base_uri": "https://localhost:8080/",
          "height": 51
        },
        "outputId": "29e360f2-c80c-467b-b191-54d614c2e622"
      },
      "cell_type": "code",
      "source": [
        "using PyCall"
      ],
      "execution_count": 16,
      "outputs": [
        {
          "output_type": "stream",
          "text": [
            "┌ Info: Precompiling PyCall [438e738f-606a-5dbb-bf0a-cddfbfd45ab0]\n",
            "└ @ Base loading.jl:1186\n"
          ],
          "name": "stderr"
        }
      ]
    },
    {
      "metadata": {
        "id": "HD5ConPaEU5p",
        "colab_type": "code",
        "colab": {
          "base_uri": "https://localhost:8080/",
          "height": 139
        },
        "outputId": "025e3792-c8f5-4ef6-8f86-7b059f507221"
      },
      "cell_type": "code",
      "source": [
        "run(`pip3 install deepspeech`)"
      ],
      "execution_count": 19,
      "outputs": [
        {
          "output_type": "stream",
          "text": [
            "Collecting deepspeech\n",
            "  Downloading https://files.pythonhosted.org/packages/26/2b/d76758e7d72c94a07ac942105dce07580c90eb1daef37b172c2f15750014/deepspeech-0.2.0-cp36-cp36m-manylinux1_x86_64.whl (7.8MB)\n",
            "Requirement already satisfied: numpy>=1.7.0 in /usr/local/lib/python3.6/dist-packages (from deepspeech) (1.14.5)\n",
            "Installing collected packages: deepspeech\n",
            "Successfully installed deepspeech-0.2.0\n"
          ],
          "name": "stdout"
        },
        {
          "output_type": "execute_result",
          "data": {
            "text/plain": [
              "Process(`\u001b[4mpip3\u001b[24m \u001b[4minstall\u001b[24m \u001b[4mdeepspeech\u001b[24m`, ProcessExited(0))"
            ]
          },
          "metadata": {
            "tags": []
          },
          "execution_count": 19
        }
      ]
    },
    {
      "metadata": {
        "id": "81ZWXpV1Epz_",
        "colab_type": "code",
        "colab": {
          "base_uri": "https://localhost:8080/",
          "height": 34
        },
        "outputId": "0a30adb5-362e-4803-adb7-7fd4039d43ba"
      },
      "cell_type": "code",
      "source": [
        "pwd()"
      ],
      "execution_count": 23,
      "outputs": [
        {
          "output_type": "execute_result",
          "data": {
            "text/plain": [
              "\"/content\""
            ]
          },
          "metadata": {
            "tags": []
          },
          "execution_count": 23
        }
      ]
    },
    {
      "metadata": {
        "id": "uT0pwDNIEtrr",
        "colab_type": "code",
        "colab": {
          "base_uri": "https://localhost:8080/",
          "height": 102
        },
        "outputId": "8ddabb7f-eab8-44a0-fec4-5debbdc6797a"
      },
      "cell_type": "code",
      "source": [
        "run(`ls`)"
      ],
      "execution_count": 30,
      "outputs": [
        {
          "output_type": "stream",
          "text": [
            "cuda-repo-ubuntu1604-9-0-local_9.0.176-1_amd64-deb\n",
            "deepspeech-0.2.0-models.tar.gz\n",
            "sample_data\n",
            "wget-log\n"
          ],
          "name": "stdout"
        },
        {
          "output_type": "execute_result",
          "data": {
            "text/plain": [
              "Process(`\u001b[4mls\u001b[24m`, ProcessExited(0))"
            ]
          },
          "metadata": {
            "tags": []
          },
          "execution_count": 30
        }
      ]
    },
    {
      "metadata": {
        "id": "8JPEFx4yFC9u",
        "colab_type": "code",
        "colab": {}
      },
      "cell_type": "code",
      "source": [
        "run(`wget -c https://github.com/mozilla/DeepSpeech/releases/download/v0.2.0/deepspeech-0.2.0-models.tar.gz`)"
      ],
      "execution_count": 0,
      "outputs": []
    },
    {
      "metadata": {
        "id": "43UZ1k2jGMY_",
        "colab_type": "code",
        "colab": {
          "base_uri": "https://localhost:8080/",
          "height": 238
        },
        "outputId": "48aaed78-4f3c-4f91-d374-9c3b02a09632"
      },
      "cell_type": "code",
      "source": [
        "run(`tar xvzf deepspeech-0.2.0-models.tar.gz`)"
      ],
      "execution_count": 32,
      "outputs": [
        {
          "output_type": "stream",
          "text": [
            "models/\n",
            "models/lm.binary\n",
            "models/._output_graph.rounded.pb\n",
            "models/output_graph.rounded.pb\n",
            "models/._output_graph.pbmm\n",
            "models/output_graph.pbmm\n",
            "models/._output_graph.pb\n",
            "models/output_graph.pb\n",
            "models/trie\n",
            "models/alphabet.txt\n",
            "models/._output_graph.rounded.pbmm\n",
            "models/output_graph.rounded.pbmm\n"
          ],
          "name": "stdout"
        },
        {
          "output_type": "execute_result",
          "data": {
            "text/plain": [
              "Process(`\u001b[4mtar\u001b[24m \u001b[4mxvzf\u001b[24m \u001b[4mdeepspeech-0.2.0-models.tar.gz\u001b[24m`, ProcessExited(0))"
            ]
          },
          "metadata": {
            "tags": []
          },
          "execution_count": 32
        }
      ]
    },
    {
      "metadata": {
        "id": "wudwO6xHFeAh",
        "colab_type": "code",
        "colab": {
          "base_uri": "https://localhost:8080/",
          "height": 136
        },
        "outputId": "cfa4abdc-e470-444d-fcc4-a2691791060a"
      },
      "cell_type": "code",
      "source": [
        "pkg\"dev Phonetics\""
      ],
      "execution_count": 28,
      "outputs": [
        {
          "output_type": "stream",
          "text": [
            "\u001b[32m\u001b[1m   Cloning\u001b[22m\u001b[39m git-repo `https://github.com/Betawolf/Phonetics.jl.git`\n",
            "\u001b[2K\u001b[?25h\u001b[32m\u001b[1m  Updating\u001b[22m\u001b[39m git-repo `https://github.com/Betawolf/Phonetics.jl.git`\n",
            "\u001b[?25l\u001b[2K\u001b[?25h\u001b[32m\u001b[1m Resolving\u001b[22m\u001b[39m package versions...\n",
            "\u001b[32m\u001b[1m  Updating\u001b[22m\u001b[39m `~/.julia/environments/v1.0/Project.toml`\n",
            " \u001b[90m [7e2a9768]\u001b[39m\u001b[92m + Phonetics v0.1.0+ [`~/.julia/dev/Phonetics`]\u001b[39m\n",
            "\u001b[32m\u001b[1m  Updating\u001b[22m\u001b[39m `~/.julia/environments/v1.0/Manifest.toml`\n",
            " \u001b[90m [7e2a9768]\u001b[39m\u001b[92m + Phonetics v0.1.0+ [`~/.julia/dev/Phonetics`]\u001b[39m\n"
          ],
          "name": "stdout"
        }
      ]
    },
    {
      "metadata": {
        "id": "6DTiHtaZFKhg",
        "colab_type": "code",
        "colab": {
          "base_uri": "https://localhost:8080/",
          "height": 391
        },
        "outputId": "5fef6b04-9b4a-4a47-f2bb-2d5f75a37b3b"
      },
      "cell_type": "code",
      "source": [
        "pkg\"dev https://github.com/wookay/Sunyata.jl\"\n"
      ],
      "execution_count": 29,
      "outputs": [
        {
          "output_type": "stream",
          "text": [
            "\u001b[32m\u001b[1m  Updating\u001b[22m\u001b[39m git-repo `https://github.com/wookay/Sunyata.jl`\n",
            "\u001b[?25l\u001b[2K\u001b[?25h"
          ],
          "name": "stdout"
        },
        {
          "output_type": "stream",
          "text": [
            "┌ Info: Path `/root/.julia/dev/Sunyata` exists and looks like the correct package, using existing path instead of cloning\n",
            "└ @ Pkg.Types /buildworker/worker/package_linux64/build/usr/share/julia/stdlib/v1.0/Pkg/src/Types.jl:573\n"
          ],
          "name": "stderr"
        },
        {
          "output_type": "stream",
          "text": [
            "\u001b[32m\u001b[1m Resolving\u001b[22m\u001b[39m package versions...\n",
            "\u001b[32m\u001b[1m Installed\u001b[22m\u001b[39m JSON2 ─────────── v0.2.2\n",
            "\u001b[32m\u001b[1m Installed\u001b[22m\u001b[39m WAV ───────────── v1.0.0\n",
            "\u001b[32m\u001b[1m Installed\u001b[22m\u001b[39m Parsers ───────── v0.2.4\n",
            "\u001b[32m\u001b[1m Installed\u001b[22m\u001b[39m PolynomialRoots ─ v0.2.0\n",
            "\u001b[32m\u001b[1m Installed\u001b[22m\u001b[39m Polynomials ───── v0.5.1\n",
            "\u001b[32m\u001b[1m Installed\u001b[22m\u001b[39m FileIO ────────── v1.0.1\n",
            "\u001b[32m\u001b[1m Installed\u001b[22m\u001b[39m DSP ───────────── v0.5.1\n",
            "\u001b[32m\u001b[1m  Updating\u001b[22m\u001b[39m `~/.julia/environments/v1.0/Project.toml`\n",
            " \u001b[90m [cff2b2ba]\u001b[39m\u001b[92m + Sunyata v0.1.0 [`~/.julia/dev/Sunyata`]\u001b[39m\n",
            "\u001b[32m\u001b[1m  Updating\u001b[22m\u001b[39m `~/.julia/environments/v1.0/Manifest.toml`\n",
            " \u001b[90m [717857b8]\u001b[39m\u001b[92m + DSP v0.5.1\u001b[39m\n",
            " \u001b[90m [5789e2e9]\u001b[39m\u001b[92m + FileIO v1.0.1\u001b[39m\n",
            " \u001b[90m [2535ab7d]\u001b[39m\u001b[92m + JSON2 v0.2.2\u001b[39m\n",
            " \u001b[90m [69de0a69]\u001b[39m\u001b[92m + Parsers v0.2.4\u001b[39m\n",
            " \u001b[90m [3a141323]\u001b[39m\u001b[92m + PolynomialRoots v0.2.0\u001b[39m\n",
            " \u001b[90m [f27b6e38]\u001b[39m\u001b[92m + Polynomials v0.5.1\u001b[39m\n",
            " \u001b[90m [cff2b2ba]\u001b[39m\u001b[92m + Sunyata v0.1.0 [`~/.julia/dev/Sunyata`]\u001b[39m\n",
            " \u001b[90m [8149f6b0]\u001b[39m\u001b[92m + WAV v1.0.0\u001b[39m\n"
          ],
          "name": "stdout"
        }
      ]
    },
    {
      "metadata": {
        "id": "2SoRcV3FFfe4",
        "colab_type": "code",
        "colab": {
          "base_uri": "https://localhost:8080/",
          "height": 119
        },
        "outputId": "bdf524c0-e4ec-480c-a1f9-ea753c37f392"
      },
      "cell_type": "code",
      "source": [
        "run(`ls /content`)"
      ],
      "execution_count": 33,
      "outputs": [
        {
          "output_type": "stream",
          "text": [
            "cuda-repo-ubuntu1604-9-0-local_9.0.176-1_amd64-deb\n",
            "deepspeech-0.2.0-models.tar.gz\n",
            "models\n",
            "sample_data\n",
            "wget-log\n"
          ],
          "name": "stdout"
        },
        {
          "output_type": "execute_result",
          "data": {
            "text/plain": [
              "Process(`\u001b[4mls\u001b[24m \u001b[4m/content\u001b[24m`, ProcessExited(0))"
            ]
          },
          "metadata": {
            "tags": []
          },
          "execution_count": 33
        }
      ]
    },
    {
      "metadata": {
        "id": "nplPd2uhGcob",
        "colab_type": "code",
        "colab": {}
      },
      "cell_type": "code",
      "source": [
        "run(`wget https://github.com/wookay/Sunyata.jl/raw/master/examples/hello.wav`)"
      ],
      "execution_count": 0,
      "outputs": []
    },
    {
      "metadata": {
        "id": "T6UaZxPcGuK0",
        "colab_type": "code",
        "colab": {
          "base_uri": "https://localhost:8080/",
          "height": 221
        },
        "outputId": "76c7fe72-6744-4ce9-9888-bfa681012c69"
      },
      "cell_type": "code",
      "source": [
        "using Sunyata"
      ],
      "execution_count": 35,
      "outputs": [
        {
          "output_type": "stream",
          "text": [
            "┌ Info: Precompiling Sunyata [cff2b2ba-bc24-11e8-1300-3fbdf5197595]\n",
            "└ @ Base loading.jl:1186\n",
            "┌ Info: Precompiling JSON2 [2535ab7d-5cd8-5a07-80ac-9b1792aadce3]\n",
            "└ @ Base loading.jl:1186\n",
            "┌ Info: Precompiling WAV [8149f6b0-98f6-5db9-b78f-408fbbb8ef88]\n",
            "└ @ Base loading.jl:1186\n",
            "┌ Info: Precompiling Phonetics [7e2a9768-7bc0-50b3-a796-3c4cdce8b7d1]\n",
            "└ @ Base loading.jl:1186\n",
            "┌ Info: Precompiling DSP [717857b8-e6f2-59f4-9121-6e50c889abd2]\n",
            "└ @ Base loading.jl:1186\n",
            "┌ Info: Precompiling PolynomialRoots [3a141323-8675-5d76-9d11-e1df1406c778]\n",
            "└ @ Base loading.jl:1186\n"
          ],
          "name": "stderr"
        }
      ]
    },
    {
      "metadata": {
        "id": "f9sLru57GwzE",
        "colab_type": "code",
        "colab": {
          "base_uri": "https://localhost:8080/",
          "height": 34
        },
        "outputId": "e93e37c6-9c0a-4862-b8c0-6399075ff234"
      },
      "cell_type": "code",
      "source": [
        "const modeldir = pwd()"
      ],
      "execution_count": 36,
      "outputs": [
        {
          "output_type": "execute_result",
          "data": {
            "text/plain": [
              "\"/content\""
            ]
          },
          "metadata": {
            "tags": []
          },
          "execution_count": 36
        }
      ]
    },
    {
      "metadata": {
        "id": "72NUwyDPG1mF",
        "colab_type": "code",
        "colab": {
          "base_uri": "https://localhost:8080/",
          "height": 139
        },
        "outputId": "52b3d06b-881e-41dc-814f-cea7fe261ac4"
      },
      "cell_type": "code",
      "source": [
        "ds = DeepSpeech.get_model(modeldir)"
      ],
      "execution_count": 37,
      "outputs": [
        {
          "output_type": "stream",
          "text": [
            "Loading model from file models/output_graph.pbmm\n",
            "Loading language model from files models/lm.binary models/trie\n"
          ],
          "name": "stdout"
        },
        {
          "output_type": "stream",
          "text": [
            "TensorFlow: v1.6.0-18-g5021473\n",
            "DeepSpeech: v0.2.0-0-g009f9b6\n",
            "2018-09-22 02:28:44.207445: I tensorflow/core/platform/cpu_feature_guard.cc:140] Your CPU supports instructions that this TensorFlow binary was not compiled to use: AVX2 FMA\n"
          ],
          "name": "stderr"
        },
        {
          "output_type": "execute_result",
          "data": {
            "text/plain": [
              "PyObject <deepspeech.Model object at 0x7f84eac6e3c8>"
            ]
          },
          "metadata": {
            "tags": []
          },
          "execution_count": 37
        }
      ]
    },
    {
      "metadata": {
        "id": "mqJ8wQEuHA35",
        "colab_type": "code",
        "colab": {
          "base_uri": "https://localhost:8080/",
          "height": 102
        },
        "outputId": "16af8a47-d174-4e34-a0d7-4f707d881066"
      },
      "cell_type": "code",
      "source": [
        "@time DeepSpeech.similarity(ds, \"hello.wav\", \"hello\")"
      ],
      "execution_count": 38,
      "outputs": [
        {
          "output_type": "stream",
          "text": [
            "  3.418150 seconds (4.37 M allocations: 217.997 MiB, 3.73% gc time)\n"
          ],
          "name": "stdout"
        },
        {
          "output_type": "stream",
          "text": [
            "┌ Info: similarity\n",
            "│   (text, ð) = (\"tlo\", 0.8)\n",
            "└ @ Sunyata.DeepSpeech /root/.julia/dev/Sunyata/src/DeepSpeech.jl:14\n"
          ],
          "name": "stderr"
        },
        {
          "output_type": "execute_result",
          "data": {
            "text/plain": [
              "(\"tlo\", 0.8)"
            ]
          },
          "metadata": {
            "tags": []
          },
          "execution_count": 38
        }
      ]
    },
    {
      "metadata": {
        "id": "HM_YZHuUHErm",
        "colab_type": "code",
        "colab": {
          "base_uri": "https://localhost:8080/",
          "height": 102
        },
        "outputId": "4d4435da-7bc3-4caa-8dd5-4880974cffde"
      },
      "cell_type": "code",
      "source": [
        "@time DeepSpeech.similarity(ds, \"hello.wav\", \"hello\")"
      ],
      "execution_count": 39,
      "outputs": [
        {
          "output_type": "stream",
          "text": [
            "  0.406322 seconds (29.16 k allocations: 1.069 MiB)\n"
          ],
          "name": "stdout"
        },
        {
          "output_type": "stream",
          "text": [
            "┌ Info: similarity\n",
            "│   (text, ð) = (\"wlo\", 0.8)\n",
            "└ @ Sunyata.DeepSpeech /root/.julia/dev/Sunyata/src/DeepSpeech.jl:14\n"
          ],
          "name": "stderr"
        },
        {
          "output_type": "execute_result",
          "data": {
            "text/plain": [
              "(\"wlo\", 0.8)"
            ]
          },
          "metadata": {
            "tags": []
          },
          "execution_count": 39
        }
      ]
    },
    {
      "metadata": {
        "id": "90tGlBvuHGuW",
        "colab_type": "code",
        "colab": {
          "base_uri": "https://localhost:8080/",
          "height": 102
        },
        "outputId": "c72c3f8b-b69a-4ae4-d9ea-58524cc1e787"
      },
      "cell_type": "code",
      "source": [
        "@time DeepSpeech.similarity(ds, \"hello.wav\", \"hello\")"
      ],
      "execution_count": 40,
      "outputs": [
        {
          "output_type": "stream",
          "text": [
            "  0.539889 seconds (29.18 k allocations: 1.070 MiB)\n"
          ],
          "name": "stdout"
        },
        {
          "output_type": "stream",
          "text": [
            "┌ Info: similarity\n",
            "│   (text, ð) = (\"welo\", 0.8)\n",
            "└ @ Sunyata.DeepSpeech /root/.julia/dev/Sunyata/src/DeepSpeech.jl:14\n"
          ],
          "name": "stderr"
        },
        {
          "output_type": "execute_result",
          "data": {
            "text/plain": [
              "(\"welo\", 0.8)"
            ]
          },
          "metadata": {
            "tags": []
          },
          "execution_count": 40
        }
      ]
    },
    {
      "metadata": {
        "id": "2q8JHBJQIxnf",
        "colab_type": "code",
        "colab": {}
      },
      "cell_type": "code",
      "source": [
        "@pyimport tensorflow.python.client as tfclient"
      ],
      "execution_count": 0,
      "outputs": []
    },
    {
      "metadata": {
        "id": "FA6Mj4eHJBp5",
        "colab_type": "code",
        "colab": {
          "base_uri": "https://localhost:8080/",
          "height": 513
        },
        "outputId": "b0404088-4d94-4226-904b-cf8e6ddc7f4f"
      },
      "cell_type": "code",
      "source": [
        "tfclient.device_lib[:list_local_devices]()"
      ],
      "execution_count": 44,
      "outputs": [
        {
          "output_type": "stream",
          "text": [
            "2018-09-22 02:38:21.592819: I tensorflow/stream_executor/cuda/cuda_gpu_executor.cc:897] successful NUMA node read from SysFS had negative value (-1), but there must be at least one NUMA node, so returning NUMA node zero\n",
            "2018-09-22 02:38:21.593494: I tensorflow/core/common_runtime/gpu/gpu_device.cc:1405] Found device 0 with properties: \n",
            "name: Tesla K80 major: 3 minor: 7 memoryClockRate(GHz): 0.8235\n",
            "pciBusID: 0000:00:04.0\n",
            "totalMemory: 11.17GiB freeMemory: 11.10GiB\n",
            "2018-09-22 02:38:21.593533: I tensorflow/core/common_runtime/gpu/gpu_device.cc:1484] Adding visible gpu devices: 0\n",
            "2018-09-22 02:38:22.055557: I tensorflow/core/common_runtime/gpu/gpu_device.cc:965] Device interconnect StreamExecutor with strength 1 edge matrix:\n",
            "2018-09-22 02:38:22.055617: I tensorflow/core/common_runtime/gpu/gpu_device.cc:971]      0 \n",
            "2018-09-22 02:38:22.055633: I tensorflow/core/common_runtime/gpu/gpu_device.cc:984] 0:   N \n",
            "2018-09-22 02:38:22.055943: I tensorflow/core/common_runtime/gpu/gpu_device.cc:1097] Created TensorFlow device (/device:GPU:0 with 10759 MB memory) -> physical GPU (device: 0, name: Tesla K80, pci bus id: 0000:00:04.0, compute capability: 3.7)\n"
          ],
          "name": "stderr"
        },
        {
          "output_type": "execute_result",
          "data": {
            "text/plain": [
              "2-element Array{PyObject,1}:\n",
              " PyObject name: \"/device:CPU:0\"\n",
              "device_type: \"CPU\"\n",
              "memory_limit: 268435456\n",
              "locality {\n",
              "}\n",
              "incarnation: 6921383523204045713\n",
              "                                                                                                                                  \n",
              " PyObject name: \"/device:GPU:0\"\n",
              "device_type: \"GPU\"\n",
              "memory_limit: 11281989632\n",
              "locality {\n",
              "  bus_id: 1\n",
              "  links {\n",
              "  }\n",
              "}\n",
              "incarnation: 7031531203546327715\n",
              "physical_device_desc: \"device: 0, name: Tesla K80, pci bus id: 0000:00:04.0, compute capability: 3.7\"\n"
            ]
          },
          "metadata": {
            "tags": []
          },
          "execution_count": 44
        }
      ]
    },
    {
      "metadata": {
        "id": "R3YSMUjMJrHg",
        "colab_type": "code",
        "colab": {
          "base_uri": "https://localhost:8080/",
          "height": 34
        },
        "outputId": "015c8f09-e1c0-447c-80aa-246ef10cf220"
      },
      "cell_type": "code",
      "source": [
        "1+2"
      ],
      "execution_count": 47,
      "outputs": [
        {
          "output_type": "execute_result",
          "data": {
            "text/plain": [
              "3"
            ]
          },
          "metadata": {
            "tags": []
          },
          "execution_count": 47
        }
      ]
    },
    {
      "metadata": {
        "id": "lyWQ--U2N_L_",
        "colab_type": "code",
        "colab": {}
      },
      "cell_type": "code",
      "source": [
        ""
      ],
      "execution_count": 0,
      "outputs": []
    }
  ]
}